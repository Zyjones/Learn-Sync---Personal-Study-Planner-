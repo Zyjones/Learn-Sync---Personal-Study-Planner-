{
 "cells": [
  {
   "cell_type": "code",
   "execution_count": null,
   "metadata": {
    "colab": {
     "base_uri": "https://localhost:8080/"
    },
    "id": "9FUh8bNCNRgV",
    "outputId": "d0ec0f0f-dfc5-49ca-f995-12c63bebcfac"
   },
   "outputs": [],
   "source": [
    "%pip install -q langchain langchain-community chromadb sentence-transformers openai tiktoken python-dotenv langchain_openai"
   ]
  },
  {
   "cell_type": "code",
   "execution_count": null,
   "metadata": {
    "colab": {
     "base_uri": "https://localhost:8080/"
    },
    "id": "Qm7VNvLipGpK",
    "outputId": "3cbc8f3e-eef0-450b-882b-22f59ae9b723"
   },
   "outputs": [],
   "source": [
    "pip install pypdf"
   ]
  },
  {
   "cell_type": "code",
   "execution_count": null,
   "metadata": {
    "id": "GBe5IjEkNiuX"
   },
   "outputs": [],
   "source": [
    "from openai import OpenAI\n",
    "\n",
    "# DO NOT EXPOSE THIS KEY PUBLICLY!!!!\n",
    "api_key = \"...\"\n",
    "# DO NOT EXPOSE THIS KEY PUBLICLY!!!!\n",
    "\n",
    "project_id = \"proj_fHRnVJY0Oyfm1ufG1sffxa6W\"\n",
    "\n",
    "client = OpenAI(api_key=api_key, project=project_id)"
   ]
  },
  {
   "cell_type": "code",
   "execution_count": null,
   "metadata": {
    "id": "iAbjRa42pydB"
   },
   "outputs": [],
   "source": [
    "import os\n",
    "os.environ[\"OPENAI_API_KEY\"] = \"...\""
   ]
  },
  {
   "cell_type": "code",
   "execution_count": null,
   "metadata": {
    "colab": {
     "base_uri": "https://localhost:8080/",
     "height": 525,
     "referenced_widgets": [
      "be2b2a4da68c4b9185311e1db6d89f66",
      "efdebbd386ef4961813ef51eac5d66b2",
      "0597732c967342f3a7bfee2bac16cab8",
      "d70033b2cead4975b519a75e78925145",
      "3b784bf40cd54ab99065624bdcf5c742",
      "c5a117510d7b4de0878f36748684e88e",
      "60ec4cb62b3b495eaaf95d4b459a58cc",
      "01da9d5d87b348a99c847630676ead77",
      "59728b8c7f414ffabd28ce092fe211fc",
      "f32b36719f924bfa8ca9a29b1dbae72a",
      "8c570e932ad34a03abc99fed575c2464",
      "a84c80a794b041c89b6de1a86818f8a8",
      "86b27d2c35b843fb95bb9cf6922ad4d2",
      "8b0732c8217740fc92f24b216d0c9cad",
      "c303af1b5d9241f78d54bec0d2dc88f3",
      "f270091be9574c7f933576ce75601896",
      "532a7d9eb1bf4ed48ce6a85ce689aa60",
      "0d72c38c3d5640e581af085e0aecf544",
      "487357f0d984401b842a024839a6d5b2",
      "ce07e00ddd3f47f1b4aa2f32280f41dd",
      "2936d77d6b5941ac878ba401880ba84b",
      "64c84ae5ca55486c8d62bcf2ed70db85",
      "6a6cb34c0201458c9c49d7a1f5c03603",
      "460f24ff65b34e93a461ffcffb1fce32",
      "993a101f1fad4e34a69f03c937847615",
      "a8ca8ed637d241c69ad8defbd8f804c2",
      "62a94337480e40e39ee2dacdd584c61f",
      "b3eacf09512d404fbd62126502abc9b7",
      "e76b2f2f11844a71a2c79395210e7bd3",
      "9d595a50ecec4fb098512cf91b19492d",
      "e372b7ddfc6e40d2bdd9dfb1fce7b97d",
      "c2c21d1223dc493f81a1eacd55593f59",
      "1ee264b43d1b414fa1a501996a6ecf06",
      "3bf7e6076aef4c98860c3ad3ff3dfe4c",
      "09f7482129a74ea4abd1d9b1be0c2d82",
      "07971108336a43cea4083898b96f8a00",
      "fc0e5867c2e045e4bf394049f18bb39a",
      "3b483f309a1d4ba98ba19421c9e6cda1",
      "459aa6a13720421c939b6eaef3aa65b0",
      "cf0b0e465ec64760ae1fc61e52a643d8",
      "4b31d03e90a64a778861174d85fc39b7",
      "5cd0bd6354ab4e8fb6e4ad857970861b",
      "6bba9e56ea104e4ba9e2039182867798",
      "823b5b08fe2a4e229c3de006b2da7863",
      "cbae204a3cef4718ab9b8e0e874b5aca",
      "05179be28bdb411da439ed4c096a4f6d",
      "af092cf2dea44eb18b0d4d3aafcfe849",
      "f2865b642eed4ab08373d2a38979806b",
      "37470e03ab364041a887052fd18bcfcf",
      "3b81987c6b39463bb00f09a2431b2003",
      "7e00d939f1ad45af8e338272aa09d5aa",
      "12d63a62e26d4e13bc1b90ce193fccba",
      "d7976344b6754a1fa35f9b44c0b424eb",
      "c586976b98ee4429b8e4bb9c90e4ba8b",
      "40d59670bf1d4a5883b41c3cfb27fc96",
      "f71675cd32624f009db364a26c6c0136",
      "747908ef6172412abdbd4ba0b3c5b413",
      "fd1d130a96404ad0b56cb06e438ab42e",
      "2e5ad37a74774325940623936355cba7",
      "3fbf44776d1444569224c3bfd4c3a3b0",
      "31d13f4d5b4145709c3354ef74016552",
      "1b1b1adea5c74fddbe6d514d1906a823",
      "a1ec13e8a89a4656b2eb6ba5fd2be446",
      "006a6d52adf540ae83332e1d42169e8c",
      "b5370742da1145dbb7cbcfab41229dfc",
      "9f1c7f15898441149b7304d76e244cf8",
      "6e824cef7b3e4f7b8700c573a3c0b707",
      "f44b6efee8a14c97801d41d2210469ae",
      "d37747c273b34984908b75da5abb4347",
      "fe3b160a78df45acaa63445d0565f346",
      "e18daaa5ce7d474ea32c6d395d85df2d",
      "9ea71993add6453cb1fab6f7c3ee7448",
      "e1bd413dc5604f1fb6c98fda85f8656a",
      "18ba3b30dfae4af6b57e046b7267942d",
      "b4d3d9ac8e064017886a3e0abec8b2b0",
      "a38b0552a57c4a24b0eaacb338d123a1",
      "ce2d0202945341d98b980526ae4fe72f",
      "56190021d26f4186820cc7ddf755d6a9",
      "654445588c984e33a3f58559a9738f50",
      "401ea8c8cd4f4c47b460c31fa7dda1b8",
      "ed620892ac474b78b47c1492dde5de89",
      "a2862eaee7e24368ac2ca0385db94b8a",
      "41013eb60b0840e2b9e6979fcaf4460d",
      "ec3cf354d6af4014b84febd4bc692823",
      "7728a06a93c44948bc2627f6bb206cd7",
      "1cb3b53cd2ba43a69e74739f0fb0e54f",
      "982fb940511c406884e5d2e443a2ad34",
      "4986f20726004327be94d81ce3b60608",
      "87914bd11d96428dad060d74fcbe8309",
      "c2fe98e2522d4eee9d234b6b09d6a013",
      "7645583523684555a17d36ffa868acb2",
      "0ec24d5631fc47c1ade60856ab99b538",
      "acd18cdf81fb4b688ce8967ec8b9f945",
      "d737ac2bff9f42489d89a33daa960793",
      "d0b191e59b90483992f519d983919cc1",
      "04a4deeadb1a48b98d3d481dc5f7a3c9",
      "b973d2f20e384ee28f04e571d9b209d5",
      "a39c5f4b26b642f6812ad77abde2375e",
      "da9eb7739ec94865b35dbc019c91169f",
      "b47b1239df9a4242ba89304cd9c2bbe6",
      "b04459213e0f43c2aa03f5198fe8fbea",
      "e0d757caf6fb4b02b86b656f504b60b5",
      "94ae8fd2ea284d6ebc01d0a5e746d082",
      "2df9f087b6e84e0ea0f9b9cea31a9746",
      "0f0dfa11f2484d6ba292cfef6f3eeb7b",
      "109e75c484ca4580b72ed438c01ec071",
      "6883173717c4449bb3e1b6290bf6563f",
      "ced20370ff454a769168781de533a159",
      "90c2de9d407d43afaff2c17489944318",
      "ca4dfa42067d4cc1b8403e15e8db8a0f",
      "a70c7c92560943248bda56fa5b96c823",
      "d661a9f066814fe8ac72cec9c0d0a333",
      "9001efe03d8c404b855a77770c182da9",
      "e42cccd68d6e4fb1a18ddabd1fa683db",
      "e986ae5714034cc999dd271c89a8f2ad",
      "fa7f732f656f40a5a0f285a0af177bd3",
      "bb1d011bf9a64f3f855d4ec5731d994c",
      "d99dc66c2f274f1d930fca14b2fc44ae",
      "2b3c1a36c05740afb2b14bd3dfdfbb32",
      "63ff78f9800d41ceb404e8a2fcf87839",
      "00db65d183834cfc97a7728597ce82c7"
     ]
    },
    "id": "SRlQawpwOPka",
    "outputId": "45977737-209e-4006-c567-cf0eef666cd8"
   },
   "outputs": [],
   "source": [
    "import os\n",
    "import pandas as pd\n",
    "from langchain_community.document_loaders import PyPDFLoader\n",
    "from langchain.text_splitter import RecursiveCharacterTextSplitter\n",
    "from langchain.embeddings import HuggingFaceEmbeddings\n",
    "from langchain.vectorstores import Chroma\n",
    "\n",
    "# Where the unified Chroma DB will live\n",
    "#persist_dir = \"unified_chroma_db\"\n",
    "#os.makedirs(persist_dir, exist_ok=True)\n",
    "\n",
    "#embeddings = HuggingFaceEmbeddings(model_name=\"sentence-transformers/all-MiniLM-L6-v2\")"
   ]
  },
  {
   "cell_type": "code",
   "execution_count": null,
   "metadata": {
    "colab": {
     "base_uri": "https://localhost:8080/",
     "height": 367
    },
    "id": "2WS7Kfg3OjeX",
    "outputId": "2bea1c55-040f-45d0-fd02-280adadb393a"
   },
   "outputs": [],
   "source": [
    "# --- 1. Load PDFs ---\n",
    "#pdf_docs = []\n",
    "#pdf_folder = \"path/to/your/pdfs\"\n",
    "# 2. List of PDFs\n",
    "pdf_folder = [\"..\\Data\\SQL slides\\Advanced SQL I copy.pdf\", \"..\\Data\\SQL slides\\Advanced SQL II copy.pptx.pdf\", \"..\\Data\\Assignment_prompt.pdf\",\"..\\Data\\Syllabus.pdf\" ]\n",
    "pdf_docs = {}\n",
    "\n",
    "for file in pdf_folder:\n",
    "    loader = PyPDFLoader(file)\n",
    "    pages = loader.load_and_split()\n",
    "    # pdf_docs[file] = pages\n",
    "\n",
    "# Add source metadata\n",
    "for p in pages:\n",
    "    p.metadata[\"source_name\"] = file\n",
    "    \n",
    "pdf_docs[file] = pages\n",
    "\n",
    "# Flatten dictionary into a list for embedding\n",
    "flat_docs = [doc for pages in pdf_docs.values() for doc in pages]    \n"
   ]
  },
  {
   "cell_type": "code",
   "execution_count": null,
   "metadata": {},
   "outputs": [],
   "source": [
    "flat_docs[\"..\\Data\\SQL slides\\Advanced SQL I copy.pdf\"]"
   ]
  },
  {
   "cell_type": "code",
   "execution_count": null,
   "metadata": {},
   "outputs": [],
   "source": [
    "from langchain_community.vectorstores import Chroma\n",
    "from langchain_openai import OpenAIEmbeddings\n",
    "\n",
    "embeddings = OpenAIEmbeddings()\n",
    "\n",
    "solutions_db = Chroma.from_documents(documents=flat_docs, embedding=embeddings, persist_directory=\"unified_chroma_db\")\n",
    "solutions_db.persist()\n"
   ]
  },
  {
   "cell_type": "code",
   "execution_count": null,
   "metadata": {
    "id": "YnFRS2VUgUuD"
   },
   "outputs": [],
   "source": [
    "# from google.colab import drive\n",
    "# drive.mount('/content/drive')"
   ]
  },
  {
   "cell_type": "code",
   "execution_count": null,
   "metadata": {
    "colab": {
     "base_uri": "https://localhost:8080/",
     "height": 1000
    },
    "id": "woMVHBy5DR93",
    "outputId": "f04f2a03-5e52-4a61-9664-385bd23f4f05"
   },
   "outputs": [],
   "source": [
    "# --- 2. Load CSVs ---\n",
    "csv_docs = []\n",
    "csv_folder = [\"..\\Data\\Student_rubric_feedback.csv\", \"..\\Data\\General_Rubric.csv\"]\n",
    "for file in csv_folder:\n",
    "    df = pd.read_csv(file)\n",
    "    df.columns = df.columns.str.strip()  # clean headers\n",
    "\n",
    "    if file == \"..\\Data\\Student_rubric_feedback.csv\":\n",
    "      expected = [\"Student\", \"Criteria\", \"Ratings\", \"Points\", \"Points Awarded\", \"Final Grade\", \"Feedback\"]\n",
    "      missing = [c for c in expected if c not in df.columns]\n",
    "      if missing:\n",
    "          raise ValueError(f\"Missing expected columns after normalization: {missing}\")\n",
    "\n",
    "      # --- Clean text columns ---\n",
    "      for col in [\"Student\", \"Criteria\", \"Ratings\", \"Feedback\"]:\n",
    "          df[col] = df[col].astype(str).str.strip()\n",
    "\n",
    "        # --- Convert numeric columns ---\n",
    "      df[\"Points\"] = pd.to_numeric(df[\"Points\"], errors=\"coerce\").fillna(25)\n",
    "      df[\"Points Awarded\"] = pd.to_numeric(df[\"Points Awarded\"], errors=\"coerce\").fillna(0)\n",
    "      df[\"Final Grade\"] = pd.to_numeric(df[\"Final Grade\"], errors=\"coerce\")\n",
    "\n",
    "      # --- Add unique ID for each row ---\n",
    "      df[\"id\"] = [f\"row-{i}\" for i in range(len(df))]\n",
    "\n",
    "    #Inspect DataFrame\n",
    "    print(\"First 10 rows:\")\n",
    "    display(df.head())\n",
    "\n",
    "    print(\"\\nColumn types:\")\n",
    "    display(df.dtypes)\n",
    "\n"
   ]
  },
  {
   "cell_type": "code",
   "execution_count": null,
   "metadata": {
    "id": "Amu-BfejTARC"
   },
   "outputs": [],
   "source": [
    "# Make a document string per row\n",
    "for _, row in df.iterrows():\n",
    "  text = \" | \".join(f\"{col}: {row[col]}\" for col in df.columns if not pd.isna(row[col]))\n",
    "  csv_docs.append({\"page_content\": text, \"metadata\": {\"source\": file}})"
   ]
  },
  {
   "cell_type": "code",
   "execution_count": null,
   "metadata": {
    "colab": {
     "base_uri": "https://localhost:8080/"
    },
    "id": "hPdJbIeCPYo9",
    "outputId": "a7ced590-2910-432d-f734-c8d082da84fa"
   },
   "outputs": [],
   "source": [
    "# Convert CSV rows into LangChain documents\n",
    "from langchain.schema import Document\n",
    "csv_docs = [Document(page_content=d[\"page_content\"], metadata=d[\"metadata\"]) for d in csv_docs]\n",
    "\n",
    "# --- 3. Combine everything ---\n",
    "all_docs = pdf_docs + csv_docs\n",
    "\n",
    "# --- 4. Create / load vectorstore ---\n",
    "vectorstore = Chroma.from_documents(all_docs, embeddings, persist_directory=persist_dir)\n",
    "\n",
    "print(\"Total documents in unified store:\", vectorstore._collection.count())"
   ]
  },
  {
   "cell_type": "code",
   "execution_count": null,
   "metadata": {
    "colab": {
     "base_uri": "https://localhost:8080/"
    },
    "id": "DP_q66j5Mn-9",
    "outputId": "7f247860-6674-4522-a44c-7a8af19fbeb5"
   },
   "outputs": [],
   "source": [
    "# The underlying Chroma client\n",
    "collection = vectorstore._collection\n",
    "\n",
    "# Get the first 10 embeddings + docs\n",
    "results = collection.get(include=[\"embeddings\", \"documents\"], limit=10)\n",
    "\n",
    "# Print shapes + snippet of values\n",
    "for i, emb in enumerate(results[\"embeddings\"]):\n",
    "    print(f\"Vector {i+1}: length={len(emb)}\")\n",
    "    print(f\"First 5 dims: {emb[:5]}\")\n",
    "    print(f\"Doc snippet: {results['documents'][i][:120]}...\\n\")"
   ]
  },
  {
   "cell_type": "code",
   "execution_count": null,
   "metadata": {
    "colab": {
     "base_uri": "https://localhost:8080/"
    },
    "id": "LEkXovsCJwhB",
    "outputId": "b544c10f-1827-42a4-e0b2-0c0e90321929"
   },
   "outputs": [],
   "source": [
    "from langchain.chains import RetrievalQA\n",
    "from langchain.chat_models import ChatOpenAI\n",
    "# --- 5. Create retriever ---\n",
    "retriever = vectorstore.as_retriever(search_kwargs={\"k\":3})\n",
    "\n",
    "# --- 6. Connect LLM (ChatOpenAI) ---\n",
    "llm = ChatOpenAI(model_name=\"gpt-4o-mini\", temperature=0)\n",
    "\n",
    "# --- 7. Create a RetrievalQA chain ---\n",
    "qa = RetrievalQA.from_chain_type(\n",
    "    llm=llm,\n",
    "    retriever=retriever,\n",
    "    chain_type=\"stuff\"  # simple chain that stuffs docs together\n",
    ")\n",
    "\n",
    "# --- 8. Ask a question ---\n",
    "query = \"What feedback did Student_1 get?\"\n",
    "result = qa.run(query)\n",
    "print(result)"
   ]
  }
 ],
 "metadata": {
  "colab": {
   "provenance": []
  },
  "kernelspec": {
   "display_name": "ds",
   "language": "python",
   "name": "python3"
  },
  "language_info": {
   "codemirror_mode": {
    "name": "ipython",
    "version": 3
   },
   "file_extension": ".py",
   "mimetype": "text/x-python",
   "name": "python",
   "nbconvert_exporter": "python",
   "pygments_lexer": "ipython3",
   "version": "3.12.9"
  }
 },
 "nbformat": 4,
 "nbformat_minor": 0
}
