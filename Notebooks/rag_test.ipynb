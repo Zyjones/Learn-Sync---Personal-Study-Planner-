{
 "cells": [
  {
   "cell_type": "markdown",
   "id": "003cdfa3",
   "metadata": {},
   "source": [
    "# RAG Notebook\n",
    "\n",
    "This notebook is for creating the rag model, vector database, and using an ai agent "
   ]
  },
  {
   "cell_type": "code",
   "execution_count": null,
   "id": "f100d9ae",
   "metadata": {},
   "outputs": [],
   "source": [
    "#import statements\n",
    "import pandas as pd\n",
    "import numpy as np"
   ]
  },
  {
   "cell_type": "markdown",
   "id": "e1ee1898",
   "metadata": {},
   "source": [
    "### Load in data"
   ]
  },
  {
   "cell_type": "code",
   "execution_count": null,
   "id": "8028ea41",
   "metadata": {},
   "outputs": [],
   "source": [
    "# Turn csv file into a json file "
   ]
  },
  {
   "cell_type": "markdown",
   "id": "18b4861f",
   "metadata": {},
   "source": [
    "### Vector Database "
   ]
  },
  {
   "cell_type": "markdown",
   "id": "889217c4",
   "metadata": {},
   "source": [
    "### AI Agents"
   ]
  }
 ],
 "metadata": {
  "kernelspec": {
   "display_name": "ds",
   "language": "python",
   "name": "python3"
  },
  "language_info": {
   "codemirror_mode": {
    "name": "ipython",
    "version": 3
   },
   "file_extension": ".py",
   "mimetype": "text/x-python",
   "name": "python",
   "nbconvert_exporter": "python",
   "pygments_lexer": "ipython3",
   "version": "3.11.13"
  }
 },
 "nbformat": 4,
 "nbformat_minor": 5
}
