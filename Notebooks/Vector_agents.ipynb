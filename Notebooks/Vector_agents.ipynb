{
  "cells": [
    {
      "cell_type": "code",
      "execution_count": 19,
      "metadata": {
        "colab": {
          "base_uri": "https://localhost:8080/"
        },
        "id": "dtyjeUwAzMAX",
        "outputId": "29e216bc-48b6-45f4-b929-e4ca148dc689"
      },
      "outputs": [
        {
          "name": "stdout",
          "output_type": "stream",
          "text": [
            "Note: you may need to restart the kernel to use updated packages.\n"
          ]
        }
      ],
      "source": [
        "pip install -q langchain langchain-community chromadb sentence-transformers openai tiktoken python-dotenv langchain_openai"
      ]
    },
    {
      "cell_type": "code",
      "execution_count": 20,
      "metadata": {
        "colab": {
          "base_uri": "https://localhost:8080/"
        },
        "id": "hJJEg-i1zX4e",
        "outputId": "9e4a8c2b-05d4-4e93-bba6-5283d68f5949"
      },
      "outputs": [
        {
          "name": "stdout",
          "output_type": "stream",
          "text": [
            "Requirement already satisfied: pypdf in c:\\users\\colet\\miniconda3\\envs\\ds\\lib\\site-packages (6.0.0)\n",
            "Note: you may need to restart the kernel to use updated packages.\n"
          ]
        }
      ],
      "source": [
        "pip install pypdf"
      ]
    },
    {
      "cell_type": "code",
      "execution_count": null,
      "metadata": {
        "id": "8Hp1cEWZzopH"
      },
      "outputs": [],
      "source": [
        "from openai import OpenAI\n",
        "\n",
        "# DO NOT EXPOSE THIS KEY PUBLICLY!!!!\n",
        "api_key = \"sk-...\"\n",
        "# DO NOT EXPOSE THIS KEY PUBLICLY!!!!\n",
        "\n",
        "project_id = \"proj_fHRnVJY0Oyfm1ufG1sffxa6W\"\n",
        "\n",
        "client = OpenAI(api_key=api_key, project=project_id)"
      ]
    },
    {
      "cell_type": "code",
      "execution_count": null,
      "metadata": {
        "id": "xwMfvQEh04bb"
      },
      "outputs": [],
      "source": [
        "import os\n",
        "os.environ[\"OPENAI_API_KEY\"] = \"sk-...\""
      ]
    },
    {
      "cell_type": "code",
      "execution_count": 23,
      "metadata": {
        "colab": {
          "base_uri": "https://localhost:8080/",
          "height": 306
        },
        "id": "xKM-TBom4MeE",
        "outputId": "08b0942a-cfab-4628-aee1-68824b12540c"
      },
      "outputs": [
        {
          "name": "stderr",
          "output_type": "stream",
          "text": [
            "<>:2: SyntaxWarning: invalid escape sequence '\\D'\n",
            "<>:2: SyntaxWarning: invalid escape sequence '\\D'\n",
            "C:\\Users\\colet\\AppData\\Local\\Temp\\ipykernel_35648\\4264941539.py:2: SyntaxWarning: invalid escape sequence '\\D'\n",
            "  df = pd.read_csv('..\\Data\\Student_rubric_feedback.csv', skipinitialspace=True)\n"
          ]
        },
        {
          "data": {
            "text/html": [
              "<div>\n",
              "<style scoped>\n",
              "    .dataframe tbody tr th:only-of-type {\n",
              "        vertical-align: middle;\n",
              "    }\n",
              "\n",
              "    .dataframe tbody tr th {\n",
              "        vertical-align: top;\n",
              "    }\n",
              "\n",
              "    .dataframe thead th {\n",
              "        text-align: right;\n",
              "    }\n",
              "</style>\n",
              "<table border=\"1\" class=\"dataframe\">\n",
              "  <thead>\n",
              "    <tr style=\"text-align: right;\">\n",
              "      <th></th>\n",
              "      <th>Student</th>\n",
              "      <th>Criteria</th>\n",
              "      <th>Ratings</th>\n",
              "      <th>Points</th>\n",
              "      <th>Points Awarded</th>\n",
              "      <th>Final Grade</th>\n",
              "      <th>Feedback</th>\n",
              "    </tr>\n",
              "  </thead>\n",
              "  <tbody>\n",
              "    <tr>\n",
              "      <th>0</th>\n",
              "      <td>Student_1</td>\n",
              "      <td>Functionality</td>\n",
              "      <td>Code completes without errors</td>\n",
              "      <td>25</td>\n",
              "      <td>25</td>\n",
              "      <td>100</td>\n",
              "      <td>Excellent job! Your code runs without errors a...</td>\n",
              "    </tr>\n",
              "    <tr>\n",
              "      <th>1</th>\n",
              "      <td>Student_1</td>\n",
              "      <td>Correctness/Style</td>\n",
              "      <td>Code is stylistically correct and works as pla...</td>\n",
              "      <td>25</td>\n",
              "      <td>25</td>\n",
              "      <td>100</td>\n",
              "      <td>Excellent job! Your code runs without errors a...</td>\n",
              "    </tr>\n",
              "    <tr>\n",
              "      <th>2</th>\n",
              "      <td>Student_1</td>\n",
              "      <td>Analytical Detail</td>\n",
              "      <td>Analysis includes appropriate statistical test...</td>\n",
              "      <td>25</td>\n",
              "      <td>25</td>\n",
              "      <td>100</td>\n",
              "      <td>Excellent job! Your code runs without errors a...</td>\n",
              "    </tr>\n",
              "    <tr>\n",
              "      <th>3</th>\n",
              "      <td>Student_1</td>\n",
              "      <td>Checkpoint Completion</td>\n",
              "      <td>All checkpoints were submitted on time.</td>\n",
              "      <td>25</td>\n",
              "      <td>25</td>\n",
              "      <td>100</td>\n",
              "      <td>Excellent job! Your code runs without errors a...</td>\n",
              "    </tr>\n",
              "    <tr>\n",
              "      <th>4</th>\n",
              "      <td>Student_2</td>\n",
              "      <td>Functionality</td>\n",
              "      <td>Code completes without errors</td>\n",
              "      <td>25</td>\n",
              "      <td>18</td>\n",
              "      <td>67</td>\n",
              "      <td>Minor errors noted but your code runs for the ...</td>\n",
              "    </tr>\n",
              "  </tbody>\n",
              "</table>\n",
              "</div>"
            ],
            "text/plain": [
              "      Student               Criteria  \\\n",
              "0   Student_1          Functionality   \n",
              "1   Student_1      Correctness/Style   \n",
              "2   Student_1      Analytical Detail   \n",
              "3   Student_1  Checkpoint Completion   \n",
              "4  Student_2           Functionality   \n",
              "\n",
              "                                             Ratings  Points   Points Awarded  \\\n",
              "0                      Code completes without errors       25              25   \n",
              "1  Code is stylistically correct and works as pla...       25              25   \n",
              "2  Analysis includes appropriate statistical test...       25              25   \n",
              "3            All checkpoints were submitted on time.       25              25   \n",
              "4                      Code completes without errors       25              18   \n",
              "\n",
              "   Final Grade                                           Feedback   \n",
              "0           100  Excellent job! Your code runs without errors a...  \n",
              "1           100  Excellent job! Your code runs without errors a...  \n",
              "2           100  Excellent job! Your code runs without errors a...  \n",
              "3           100  Excellent job! Your code runs without errors a...  \n",
              "4            67  Minor errors noted but your code runs for the ...  "
            ]
          },
          "execution_count": 23,
          "metadata": {},
          "output_type": "execute_result"
        }
      ],
      "source": [
        "import pandas as pd\n",
        "df = pd.read_csv('..\\Data\\Student_rubric_feedback.csv', skipinitialspace=True)\n",
        "df.head()"
      ]
    },
    {
      "cell_type": "code",
      "execution_count": 24,
      "metadata": {
        "id": "s9-IgsCO5HKk"
      },
      "outputs": [],
      "source": [
        "# coulmn names have trailing whitespace\n",
        "df.columns = df.columns.str.strip()\n",
        "expected = [\"Student\", \"Criteria\", \"Ratings\", \"Points\", \"Points Awarded\", \"Final Grade\", \"Feedback\"]\n",
        "missing = [c for c in expected if c not in df.columns]\n",
        "if missing:\n",
        "  raise ValueError(f\"Missing expected columns after normalization: {missing}\")\n",
        "\n",
        "# --- Clean text columns ---\n",
        "for col in [\"Student\", \"Criteria\", \"Ratings\", \"Feedback\"]:\n",
        "  df[col] = df[col].astype(str).str.strip()\n",
        "\n",
        "# --- Convert numeric columns ---\n",
        "df[\"Points\"] = pd.to_numeric(df[\"Points\"], errors=\"coerce\").fillna(25)\n",
        "df[\"Points Awarded\"] = pd.to_numeric(df[\"Points Awarded\"], errors=\"coerce\").fillna(0)\n",
        "df[\"Final Grade\"] = pd.to_numeric(df[\"Final Grade\"], errors=\"coerce\")\n",
        "\n",
        "# --- Add unique ID for each row ---\n",
        "df[\"id\"] = [f\"row-{i}\" for i in range(len(df))]"
      ]
    },
    {
      "cell_type": "code",
      "execution_count": 25,
      "metadata": {
        "id": "xeN4q0b2zBTb"
      },
      "outputs": [
        {
          "name": "stderr",
          "output_type": "stream",
          "text": [
            "<>:8: SyntaxWarning: invalid escape sequence '\\D'\n",
            "<>:9: SyntaxWarning: invalid escape sequence '\\D'\n",
            "<>:10: SyntaxWarning: invalid escape sequence '\\D'\n",
            "<>:11: SyntaxWarning: invalid escape sequence '\\D'\n",
            "<>:8: SyntaxWarning: invalid escape sequence '\\D'\n",
            "<>:9: SyntaxWarning: invalid escape sequence '\\D'\n",
            "<>:10: SyntaxWarning: invalid escape sequence '\\D'\n",
            "<>:11: SyntaxWarning: invalid escape sequence '\\D'\n",
            "C:\\Users\\colet\\AppData\\Local\\Temp\\ipykernel_35648\\734577981.py:8: SyntaxWarning: invalid escape sequence '\\D'\n",
            "  \"..\\Data\\SQL slides\\Advanced SQL I copy.pdf\",\n",
            "C:\\Users\\colet\\AppData\\Local\\Temp\\ipykernel_35648\\734577981.py:9: SyntaxWarning: invalid escape sequence '\\D'\n",
            "  \"..\\Data\\SQL slides\\Advanced SQL II copy.pptx.pdf\",\n",
            "C:\\Users\\colet\\AppData\\Local\\Temp\\ipykernel_35648\\734577981.py:10: SyntaxWarning: invalid escape sequence '\\D'\n",
            "  \"..\\Data\\Assignment_prompt.pdf\",\n",
            "C:\\Users\\colet\\AppData\\Local\\Temp\\ipykernel_35648\\734577981.py:11: SyntaxWarning: invalid escape sequence '\\D'\n",
            "  \"..\\Data\\Syllabus.pdf\",\n"
          ]
        }
      ],
      "source": [
        "import os\n",
        "from langchain_community.document_loaders import PyPDFLoader\n",
        "from langchain_community.vectorstores import Chroma\n",
        "from langchain_openai import OpenAIEmbeddings\n",
        "\n",
        "# Use raw strings or forward slashes on Windows to avoid escape issues\n",
        "pdf_folder = [\n",
        "    \"..\\Data\\SQL slides\\Advanced SQL I copy.pdf\",\n",
        "    \"..\\Data\\SQL slides\\Advanced SQL II copy.pptx.pdf\",\n",
        "    \"..\\Data\\Assignment_prompt.pdf\",\n",
        "    \"..\\Data\\Syllabus.pdf\",\n",
        "]\n",
        "\n",
        "\n",
        "\"\"\"\n",
        "all_docs = []\n",
        "# --- Load and add metadata ---\n",
        "for file in pdf_folder:\n",
        "    loader = PyPDFLoader(file)\n",
        "    pages = loader.load_and_split()\n",
        "\n",
        "    # add source metadata for each page\n",
        "    for p in pages:\n",
        "        p.metadata[\"source_name\"] = file\n",
        "\n",
        "    all_docs.extend(pages)  # collect everything in one list\n",
        "\n",
        "embeddings = OpenAIEmbeddings()\n",
        "\"\"\"\n",
        "pdf_docs = {}\n",
        "\n",
        "for file in pdf_folder:\n",
        "    loader = PyPDFLoader(file)\n",
        "    pages = loader.load_and_split()\n",
        "    # add source metadata for each page\n",
        "    for p in pages:\n",
        "        p.metadata[\"source_name\"] = file\n",
        "    # store all pages for this file\n",
        "    pdf_docs[file] = pages\n",
        "\n",
        "# Flatten dictionary into one list of docs\n",
        "flat_docs = [doc for pages in pdf_docs.values() for doc in pages]\n",
        "\n",
        "embeddings = OpenAIEmbeddings()\n",
        "\n",
        "#persist_dir = \"unified_chroma_db\""
      ]
    },
    {
      "cell_type": "code",
      "execution_count": 26,
      "metadata": {
        "id": "7zkXvT4C1UA0"
      },
      "outputs": [
        {
          "name": "stderr",
          "output_type": "stream",
          "text": [
            "C:\\Users\\colet\\AppData\\Local\\Temp\\ipykernel_35648\\2228153208.py:9: LangChainDeprecationWarning: Since Chroma 0.4.x the manual persistence method is no longer supported as docs are automatically persisted.\n",
            "  vectordb.persist()\n"
          ]
        }
      ],
      "source": [
        "#vectordb = Chroma.from_documents(documents=all_docs, embedding=embeddings, persist_directory=\"./vectordb_index\")\n",
        "#vectordb.persist()\n",
        "# 2. Create Chroma DB from flat_docs\n",
        "vectordb = Chroma.from_documents(\n",
        "    documents=flat_docs,\n",
        "    embedding= embeddings,\n",
        "    persist_directory=\"./vectordb_index\"\n",
        ")\n",
        "vectordb.persist()"
      ]
    },
    {
      "cell_type": "code",
      "execution_count": 27,
      "metadata": {
        "id": "dpx7OdgW1k9L"
      },
      "outputs": [],
      "source": [
        "vector_retriever = vectordb.as_retriever(search_kwargs={\"k\": 3})"
      ]
    },
    {
      "cell_type": "code",
      "execution_count": 28,
      "metadata": {
        "colab": {
          "base_uri": "https://localhost:8080/"
        },
        "collapsed": true,
        "id": "ZaCz9p8rBWOE",
        "outputId": "b4e9848b-1738-4ffe-9551-bc996b3f7968"
      },
      "outputs": [
        {
          "name": "stdout",
          "output_type": "stream",
          "text": [
            "\n",
            "--- Raw Doc 1 from ..\\Data\\SQL slides\\Advanced SQL I copy.pdf ---\n",
            "Advanced SQL I\n",
            "\n",
            "--- Raw Doc 2 from ..\\Data\\SQL slides\\Advanced SQL I copy.pdf ---\n",
            "Agenda - Schedule\n",
            "1. SQL Leetcode Q\n",
            "2. Window Functions\n",
            "3. Break\n",
            "4. COVID-19 SQL Lab\n",
            " Database systems of the past\n",
            "\n",
            "--- Raw Doc 3 from ..\\Data\\SQL slides\\Advanced SQL I copy.pdf ---\n",
            "Agenda - Announcements \n",
            "● No pre-class quiz\n",
            "● TLAB #3 due 5/14\n",
            "○ Early grade due date: 5/7\n",
            "○ Extension due date: 5/13\n",
            "● In-class end of phase project is being released THIS THURSDAY! (We \n",
            "recommend attending this review session)\n",
            "\n",
            "--- Raw Doc 4 from ..\\Data\\SQL slides\\Advanced SQL I copy.pdf ---\n",
            "Agenda - Goals\n",
            "● Use SQL window functions (ROW_NUMBER, RANK, DENSE_RANK, NTILE) to \n",
            "analyze and rank data within partitions.\n",
            "● Apply LAG() and LEAD() functions to compare rows across a sequence.\n",
            "● Use subqueries to calculate differences between values (e.g., current vs. \n",
            "previous order amounts).\n",
            "\n",
            "--- Raw Doc 5 from ..\\Data\\SQL slides\\Advanced SQL I copy.pdf ---\n",
            "SQL Leetcode Q\n"
          ]
        }
      ],
      "source": [
        "for i, doc in enumerate(flat_docs[:5]):\n",
        "    print(f\"\\n--- Raw Doc {i+1} from {doc.metadata['source_name']} ---\")\n",
        "    print(doc.page_content[:500])  # peek at first 500 chars"
      ]
    },
    {
      "cell_type": "code",
      "execution_count": 29,
      "metadata": {
        "colab": {
          "base_uri": "https://localhost:8080/"
        },
        "id": "EDXLGde8BkU6",
        "outputId": "6fd474e3-73bc-456b-94e1-626fef644cea"
      },
      "outputs": [
        {
          "name": "stdout",
          "output_type": "stream",
          "text": [
            "..\\Data\\SQL slides\\Advanced SQL I copy.pdf: 43 pages\n",
            "First page text: Advanced SQL I\n",
            "..\\Data\\SQL slides\\Advanced SQL II copy.pptx.pdf: 41 pages\n",
            "First page text: Advanced SQL II\n",
            "..\\Data\\Assignment_prompt.pdf: 2 pages\n",
            "First page text: Ad-hoc  Analysis  \n",
            "You  are  a  data  analyst  at  an  NYC-based  wholesale  food  supplier  called  Osiris-Foods.  As  part  of  \n",
            "your\n",
            " \n",
            "companies\n",
            " \n",
            "mission\n",
            " \n",
            "to\n",
            " \n",
            "make\n",
            " \n",
            "more\n",
            " \n",
            "data-driven\n",
            " \n",
            "decisions,\n",
            " \n",
            "you\n",
            " \n",
            "are\n",
            " \n",
            "tasked\n",
            " \n",
            "with\n",
            " \n",
            "generating\n",
            " \n",
            "an\n",
            " \n",
            "ad-hoc\n",
            " \n",
            "report\n",
            " \n",
            "on\n",
            " \n",
            "your\n",
            " \n",
            "companies\n",
            " \n",
            "database.\n",
            " \n",
            "You\n",
            " \n",
            "will\n",
            " \n",
            "report\n",
            " \n",
            "on\n",
            " \n",
            "descriptive\n",
            " \n",
            "statistics\n",
            " \n",
            "using\n",
            " \n",
            "SQL\n",
            " \n",
            "and\n",
            " \n",
            "generate\n",
            " \n",
            "respective\n",
            " \n",
            "visualizations\n",
            " \n",
            "using\n",
            " \n",
            "pandas\n",
            " \n",
            "to\n",
            " \n",
            "provide\n",
            " \n",
            "your\n",
            " \n",
            "company\n",
            " \n",
            "an\n",
            " \n",
            "overview\n",
            " \n",
            "of\n",
            " \n",
            "its'\n",
            " \n",
            "pa\n",
            "..\\Data\\Syllabus.pdf: 13 pages\n",
            "First page text: Innovation  Fellowship\n",
            " Data  Science  Syllabus   Class  Summary:  The  Knowledge  House  Data  Science  Innovation  Fellowship  aims  to  provide  students  with  a  multifaceted,  \n",
            "foundational\n",
            " \n",
            "skill\n",
            " \n",
            "set\n",
            " \n",
            "essential\n",
            " \n",
            "for\n",
            " \n",
            "an\n",
            " \n",
            "entry-level\n",
            " \n",
            "data\n",
            " \n",
            "or\n",
            " \n",
            "software\n",
            " \n",
            "specialist\n",
            " \n",
            "role,\n",
            " \n",
            "which\n",
            " \n",
            "includes\n",
            " \n",
            "roles\n",
            " \n",
            "in\n",
            " \n",
            "software\n",
            " \n",
            "engineering,\n",
            " \n",
            "data\n",
            " \n",
            "analysis,\n",
            " \n",
            "research\n",
            " \n",
            "analysis,\n",
            "  \n",
            "analytics\n",
            " \n",
            "engineering,\n",
            " \n",
            "and\n",
            " \n",
            "more.\n",
            " \n",
            "Commencing  with  foundational  programming  skills,  emphasis  i\n"
          ]
        }
      ],
      "source": [
        "for file in pdf_folder:\n",
        "    loader = PyPDFLoader(file)\n",
        "    pages = loader.load_and_split()\n",
        "    print(f\"{file}: {len(pages)} pages\")\n",
        "    print(f\"First page text: {pages[0].page_content[:500]}\")"
      ]
    },
    {
      "cell_type": "code",
      "execution_count": 30,
      "metadata": {
        "colab": {
          "base_uri": "https://localhost:8080/"
        },
        "id": "IvWbJfke7qPl",
        "outputId": "c87faa94-67e3-442f-c57a-357c052e6c7b"
      },
      "outputs": [
        {
          "name": "stderr",
          "output_type": "stream",
          "text": [
            "C:\\Users\\colet\\AppData\\Local\\Temp\\ipykernel_35648\\4163857892.py:3: LangChainDeprecationWarning: The method `BaseRetriever.get_relevant_documents` was deprecated in langchain-core 0.1.46 and will be removed in 1.0. Use :meth:`~invoke` instead.\n",
            "  docs = vector_retriever.get_relevant_documents(query)\n"
          ]
        },
        {
          "name": "stdout",
          "output_type": "stream",
          "text": [
            "\n",
            "--- Document 1 (from ..\\Data\\Assignment_prompt.pdf) ---\n",
            "Ad-hoc  Analysis  \n",
            "You  are  a  data  analyst  at  an  NYC-based  wholesale  food  supplier  called  Osiris-Foods.  As  part  of  \n",
            "your\n",
            " \n",
            "companies\n",
            " \n",
            "mission\n",
            " \n",
            "to\n",
            " \n",
            "make\n",
            " \n",
            "more\n",
            " \n",
            "data-driven\n",
            " \n",
            "decisions,\n",
            " \n",
            "you\n",
            " \n",
            "are\n",
            " \n",
            "tasked\n",
            " \n",
            "with\n",
            " \n",
            "generating\n",
            " \n",
            "an\n",
            " \n",
            "ad-hoc\n",
            " \n",
            "report\n",
            " \n",
            "on\n",
            " \n",
            "your\n",
            " \n",
            "companies\n",
            " \n",
            "database.\n",
            " \n",
            "You\n",
            " \n",
            "will\n",
            " \n",
            "report\n",
            " \n",
            "on\n",
            " \n",
            "descriptive\n",
            " \n",
            "statistics\n",
            " \n",
            "using\n",
            " \n",
            "SQL\n",
            " \n",
            "and\n",
            " \n",
            "generate\n",
            " \n",
            "respective\n",
            " \n",
            "visualizations\n",
            " \n",
            "using\n",
            " \n",
            "pandas\n",
            " \n",
            "to\n",
            " \n",
            "provide\n",
            " \n",
            "your\n",
            " \n",
            "company\n",
            " \n",
            "an\n",
            " \n",
            "overview\n",
            " \n",
            "of\n",
            " \n",
            "its'\n",
            " \n",
            "pa\n",
            "\n",
            "--- Document 2 (from ..\\Data\\SQL slides\\Advanced SQL II copy.pptx.pdf) ---\n",
            "Advanced SQL II\n",
            "\n",
            "--- Document 3 (from ..\\Data\\SQL slides\\Advanced SQL I copy.pdf) ---\n",
            "SQL Review\n"
          ]
        }
      ],
      "source": [
        "# 🔎 Try a query against your retriever\n",
        "query = \"What is the ad-hoc analysis assignment_prompt?\"\n",
        "docs = vector_retriever.get_relevant_documents(query)\n",
        "\n",
        "# Print results with source info + preview\n",
        "for i, doc in enumerate(docs, 1):\n",
        "    source = doc.metadata.get(\"source_name\", \"Unknown source\")\n",
        "    print(f\"\\n--- Document {i} (from {source}) ---\")\n",
        "    print(doc.page_content[:500])\n"
      ]
    },
    {
      "cell_type": "code",
      "execution_count": 31,
      "metadata": {
        "id": "RyBcHIwH1mZg"
      },
      "outputs": [],
      "source": [
        "from langchain_openai import ChatOpenAI\n",
        "\n",
        "llm = ChatOpenAI(model='gpt-4o-mini', temperature=0.2)"
      ]
    },
    {
      "cell_type": "code",
      "execution_count": 32,
      "metadata": {
        "colab": {
          "base_uri": "https://localhost:8080/",
          "height": 424
        },
        "id": "BMsRRGnK5kwT",
        "outputId": "3e1eb9a5-ea22-4274-b22d-9e63f15c53b2"
      },
      "outputs": [
        {
          "data": {
            "text/plain": [
              "Student\n",
              "Student_1     [Excellent job! Your code runs without errors ...\n",
              "Student_10    [Functional solution, but missed checkpoints h...\n",
              "Student_2     [Minor errors noted but your code runs for the...\n",
              "Student_3                   [Good try. Improvements to be made]\n",
              "Student_4     [Your SQL code runs overall, but a few minor i...\n",
              "Student_5     [Your submission was complete and code execute...\n",
              "Student_6     [Code was incomplete however assignment was su...\n",
              "Student_7                                          [Well done.]\n",
              "Student_8     [You demonstrated consistency across all areas...\n",
              "Student_9     [Your analysis was strong and very thorough, b...\n",
              "Name: Feedback, dtype: object"
            ]
          },
          "execution_count": 32,
          "metadata": {},
          "output_type": "execute_result"
        }
      ],
      "source": [
        "feedback = df.groupby('Student')[\"Feedback\"].unique().apply(list)\n",
        "feedback"
      ]
    },
    {
      "cell_type": "code",
      "execution_count": 39,
      "metadata": {
        "id": "A7P-jBKWN5yH"
      },
      "outputs": [],
      "source": [
        "# AI Agent: Feedback Analyzer which will do an analysis of the feedback they received.\n",
        "# Check the quality of the feedback (vague, expansive).\n",
        "def feedback_analyzer(feedback: list) -> list:\n",
        "  #Grab context for the feedback\n",
        "  docs = vector_retriever.get_relevant_documents(\"What grading criteria are used for SQL assignments??\")\n",
        "  #Create a prompt for Agent Feedback Analyzer\n",
        "  prompt = f\"\"\"\n",
        "    You are Agent Feedback Analyzer.\n",
        "    Your job is to determine the quality of the instructor feedback per student.\n",
        "    The feedback is expansive if it includes specfic information.\n",
        "    Example of expansive feed back is \"Your SQL code runs overall, but a few minor issues should be addressed. For example, you missed some join statements.These are small fixes and don’t indicate a major bug. Queries are well-structured and stylistically strong. The analysis includes appropriate tests, metrics, and clear visuals, showing solid reasoning. Be sure to submit all checkpoints on time to stay fully on track.\"\n",
        "    The feedback is vague of it has general information.\n",
        "    Example of vague feed back: \"Good try. Improvements to be made\"\n",
        "\n",
        "\n",
        "    Example Output:\n",
        "    Student_1's {feedback} is vague\n",
        "    Student_2's {feedback} is moderate\n",
        "    Student_3's {feedback} is expansive.\n",
        "\n",
        "    Output the results as a dictionary: 'Student 1: vague'\n",
        "    \"\"\"\n",
        "\n",
        "  # get back answer from `gpt-4o-mini` using context & prompt\n",
        "  resp = client.chat.completions.create(\n",
        "        model=\"gpt-4o-mini\",\n",
        "        messages=[{\"role\": \"user\", \"content\": prompt}],\n",
        "        temperature=0.2,\n",
        "    )\n",
        "  #return resp.choices[0].message.content\n",
        "  #return resp.choices[0].message.content.split()\n",
        "  #cleaned = resp.choices[0].message.content.replace(\"\\\\n\", \"\\n\")\n",
        "  cleaned = resp.choices[0].message.content.strip()\n",
        "  #print(cleaned)\n",
        "  return cleaned\n"
      ]
    },
    {
      "cell_type": "code",
      "execution_count": 40,
      "metadata": {
        "colab": {
          "base_uri": "https://localhost:8080/",
          "height": 69
        },
        "id": "vtP1-Dzb52LL",
        "outputId": "6ea4ad23-710a-4ede-999c-c14d61cbec54"
      },
      "outputs": [
        {
          "data": {
            "text/plain": [
              "\"```python\\n{\\n    'Student 1': 'expansive',\\n    'Student 2': 'moderate',\\n    'Student 3': 'vague',\\n    'Student 4': 'expansive',\\n    'Student 5': 'expansive',\\n    'Student 6': 'vague',\\n    'Student 7': 'vague',\\n    'Student 8': 'expansive',\\n    'Student 9': 'expansive',\\n    'Student 10': 'moderate'\\n}\\n```\""
            ]
          },
          "execution_count": 40,
          "metadata": {},
          "output_type": "execute_result"
        }
      ],
      "source": [
        "#Running the feedback Analyzer function\n",
        "fa_results = feedback_analyzer(feedback)\n",
        "fa_results"
      ]
    },
    {
      "cell_type": "code",
      "execution_count": 36,
      "metadata": {
        "id": "4kGuNIDaAhdM"
      },
      "outputs": [],
      "source": [
        "#AI Agent WeakPoints\n",
        "  #this AI agent shows the weakpoints or strong points the person needs to study\n",
        "  #if feedback is vague -> relying on rubric rating + criteria, and assignment prompt to establish weakpoints\n",
        "  #if feedback is moderate -> relying on rubric rating + criteria, assignment prompt, and instructor feedback to establish weakpoints\n",
        "  #if feedback is expansive -> relying on rubric rating + criteria, assignment prompt, and more of the instructor feedback to establish weakpoints\n",
        "\n",
        "#Process\n",
        "  # Student 3's feedback was vague: \"Good try. Improvements to be made\" ->\n",
        "  # *looks at rubric rating* \"Analysis includes some visualizations or metrics but lacks depth or completeness.\"\n",
        "  # *looks at criteria*:\"Analytical Detail: If applicable, is visual analysis of the data necessary and reasonable? Fellow must demonstrate not only technical ability in generating analysis but also the ability to describe their reasoning for said analysis. For instance, do we include the necessary statistical tests, model measurements, and visual exploratory data analysis which can provide background context and insight into performance? These can include things like ANOVA, measures of central tendency, heatmaps, bar graphs, model metrics, and so on.\"\n",
        "  # *Looks at  assignment prompt*\n",
        "\n",
        "#Output (Return Weakpoints)\n",
        "  # List of WEAKPOINTS -> \"Did not include a join between sales and product categories; analysis is incomplete without category insights.-->"
      ]
    },
    {
      "cell_type": "code",
      "execution_count": 37,
      "metadata": {
        "id": "LA6DrEcxeX0A"
      },
      "outputs": [],
      "source": [
        "def Weakpoint_Detector(fa_results: dict) -> str:\n",
        "\n",
        "  #Grab context for the weakpoints\n",
        "  context = vector_retriever.get_relevant_documents(\"What is the ad-hoc analysis assignment_prompt?\")\n",
        "\n",
        "  #Create a prompt for Agent Weakpoint Detector\n",
        "  prompt = f\"\"\"\n",
        "  You are Agent Weakpoint Detector. You job is to utilize the {fa_results} and connect to the {context} to create weakpoints that a user will need to study\n",
        "  If feedback is vague -> relying on rubric rating + criteria, and assignment prompt to establish weakpoints\n",
        "  If feedback is moderate -> relying on rubric rating + criteria, assignment prompt, and instructor feedback to establish weakpoints\n",
        "  If feedback is expansive -> relying on rubric rating + criteria, assignment prompt, and more of the instructor feedback to establish weakpoints\n",
        "  \"\"\"\n",
        "  # get back answer from `gpt-4o-mini` using context & prompt\n",
        "  resp = client.chat.completions.create(\n",
        "        model=\"gpt-4o-mini\",\n",
        "        messages=[{\"role\": \"user\", \"content\": prompt}],\n",
        "        temperature=0.2,\n",
        "    )\n",
        "  #return resp.choices[0].message.content\n",
        "  #return resp.choices[0].message.content.split()\n",
        "  #cleaned = resp.choices[0].message.content.replace(\"\\\\n\", \"\\n\")\n",
        "  cleaned = resp.choices[0].message.content.strip()\n",
        "  #print(cleaned)\n",
        "  return cleaned\n",
        "\n"
      ]
    },
    {
      "cell_type": "code",
      "execution_count": 38,
      "metadata": {
        "colab": {
          "base_uri": "https://localhost:8080/",
          "height": 188
        },
        "id": "PzknyXg5hM5X",
        "outputId": "9f48e1d6-49b5-4d48-b7c1-d15b00744ad4"
      },
      "outputs": [
        {
          "data": {
            "text/plain": [
              "'Based on the classifications of student feedback and the provided assignment prompt, here are the identified weakpoints for each student that they may need to study:\\n\\n### Weakpoints for Each Student\\n\\n- **Student 1 (Expansive)**:\\n  - No weakpoints identified; feedback was detailed and specific.\\n\\n- **Student 2 (Vague)**:\\n  - **Weakpoint 1**: Lack of specific details about missed checkpoints. Students should focus on understanding the assignment requirements and ensuring they address all checkpoints.\\n  - **Weakpoint 2**: Need to improve the ability to provide constructive feedback. This includes learning how to identify specific areas of improvement in code or analysis.\\n\\n- **Student 3 (Moderate)**:\\n  - **Weakpoint 1**: Need to identify and explain minor errors in detail. Students should practice articulating specific issues in their work.\\n  - **Weakpoint 2**: Understanding the importance of meeting all requirements. Review the assignment prompt to ensure all aspects are covered.\\n\\n- **Student 4 (Vague)**:\\n  - **Weakpoint 1**: Similar to Student 2, there is a need for more specific feedback. Students should learn to pinpoint areas for improvement based on the rubric.\\n  - **Weakpoint 2**: Understanding the assignment criteria better to provide more targeted feedback.\\n\\n- **Student 5 (Expansive)**:\\n  - No weakpoints identified; feedback was detailed and specific.\\n\\n- **Student 6 (Expansive)**:\\n  - No weakpoints identified; feedback was detailed and specific.\\n\\n- **Student 7 (Vague)**:\\n  - **Weakpoint 1**: Need to provide specific details about what was incomplete. Students should learn to analyze their work critically and identify gaps.\\n  - **Weakpoint 2**: Understanding the importance of timely and detailed feedback.\\n\\n- **Student 8 (Vague)**:\\n  - **Weakpoint 1**: Similar to Student 7, there is a need for more specific feedback. Students should practice identifying strengths and weaknesses in their work.\\n  - **Weakpoint 2**: Review the assignment prompt to ensure they can articulate what was done well.\\n\\n- **Student 9 (Moderate)**:\\n  - **Weakpoint 1**: Need to provide specific examples of gaps in consistency. Students should focus on detailing their findings and supporting them with evidence.\\n  - **Weakpoint 2**: Understanding the assignment requirements better to ensure all aspects are addressed.\\n\\n- **Student 10 (Expansive)**:\\n  - No weakpoints identified; feedback was detailed and specific.\\n\\n### Summary\\nStudents with vague feedback should focus on improving their ability to provide specific, constructive feedback and ensure they understand the assignment requirements. Those with moderate feedback should work on articulating specific errors and ensuring all requirements are met. Expansive feedback indicates a strong understanding, and no weakpoints are identified for those students.'"
            ]
          },
          "execution_count": 38,
          "metadata": {},
          "output_type": "execute_result"
        }
      ],
      "source": [
        "Weakpoint_Detector(fa_results)"
      ]
    }
  ],
  "metadata": {
    "colab": {
      "provenance": []
    },
    "kernelspec": {
      "display_name": "ds",
      "language": "python",
      "name": "python3"
    },
    "language_info": {
      "codemirror_mode": {
        "name": "ipython",
        "version": 3
      },
      "file_extension": ".py",
      "mimetype": "text/x-python",
      "name": "python",
      "nbconvert_exporter": "python",
      "pygments_lexer": "ipython3",
      "version": "3.12.9"
    }
  },
  "nbformat": 4,
  "nbformat_minor": 0
}
